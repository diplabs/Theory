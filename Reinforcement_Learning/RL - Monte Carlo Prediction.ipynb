{
 "cells": [
  {
   "cell_type": "markdown",
   "metadata": {},
   "source": [
    "# Monte Carlo Prediction\n",
    "---\n",
    "> Monte Carlo\n",
    "1. Policy Iteration\n",
    "2. Value Iteration\n",
    "\n",
    "* 불확실성을 예측하기 위해 sampling 사용 (trial - error)\n",
    "* Value Function 을 사용하는 것은 model - free 에서 못쓰므로 여기서부터 Q Function 사용\n",
    "* episode 의 모든 history 를 저장하므로 다음 상태에 대한 정보를 따로 알 필요없다. 이미 buffer 에 다 있으니까\n",
    "* 또한 보상 에 해당하는 discounted Return 값이 target 이며 다음 상태의 가치 역할을 한다."
   ]
  },
  {
   "cell_type": "code",
   "execution_count": 1,
   "metadata": {},
   "outputs": [],
   "source": [
    "import gym\n",
    "import numpy as np\n",
    "import random\n",
    "from gym.envs.registration import register"
   ]
  },
  {
   "cell_type": "code",
   "execution_count": 2,
   "metadata": {},
   "outputs": [],
   "source": [
    "'''\n",
    "환경셋팅 한 후에 환경을 추가등록한다.\n",
    "'''\n",
    "\n",
    "register(\n",
    "    id='FrozenLake-v1',\n",
    "    entry_point=\"gym.envs.toy_text:FrozenLakeEnv\",\n",
    "    kwargs={'map_name':'4x4','is_slippery':False})"
   ]
  },
  {
   "cell_type": "code",
   "execution_count": 3,
   "metadata": {},
   "outputs": [],
   "source": [
    "'''\n",
    "환경 생성\n",
    "'''\n",
    "env = gym.make('FrozenLake-v1')"
   ]
  },
  {
   "cell_type": "code",
   "execution_count": 10,
   "metadata": {},
   "outputs": [],
   "source": [
    "q_table = np.zeros([env.action_space.n, env.observation_space.n], dtype = np.float16)\n",
    "gamma = .9\n",
    "epsilon = 1\n",
    "episode = 0\n",
    "max_episode = 1000\n",
    "# episode 내용을 모두 저장한다.\n",
    "history = np.zeros([1, 3])\n",
    "\n",
    "state = env.reset()\n",
    "action = env.action_space.sample()\n",
    "step = 0\n",
    "\n",
    "'''\n",
    "compute discounted\n",
    "'''\n",
    "def discounted_reward(rewards):\n",
    "    discounted = np.zeros_like(rewards)\n",
    "    sum_tmp = 0\n",
    "    \n",
    "    for i in reversed(range(0, len(rewards))):\n",
    "        sum_tmp = gamma * sum_tmp + rewards[i]\n",
    "        discounted[i] = sum_tmp\n",
    "    \n",
    "    return discounted\n",
    "\n",
    "'''\n",
    "main\n",
    "'''\n",
    "while(episode < max_episode):\n",
    "    \n",
    "    step += 1\n",
    "    state_next, reward, done, _ = env.step(action)\n",
    "        \n",
    "    if(random.random() > epsilon):\n",
    "        action_next = np.argmax(q_table[ : , state_next])\n",
    "    else:\n",
    "        action_next = env.action_space.sample()\n",
    "    \n",
    "    state_old = state\n",
    "    action_old = action\n",
    "    \n",
    "    state = state_next\n",
    "    action = action_next\n",
    "    \n",
    "    # history 쌓기\n",
    "    history = np.vstack((history, [state_old, action_old, reward]))\n",
    "    \n",
    "    # episode 끝나면 업데이트\n",
    "    if(done):\n",
    "        if(reward):\n",
    "            if(epsilon > .1):\n",
    "                epsilon = 1 / (episode/(max_episode/10) + 1)\n",
    "            else:\n",
    "                epsilon = .1\n",
    "        else:\n",
    "            history[-1, 2] = -1\n",
    "            \n",
    "        epr = discounted_reward(history[ : , 2])\n",
    "        \n",
    "        # M.C 업데이트\n",
    "        for i in range(len(history)):\n",
    "            s = int(history[i, 0])\n",
    "            a = int(history[i, 1])\n",
    "            r = epr[i]\n",
    "            q_table[a, s] += gamma * (r - q_table[a, s])\n",
    "            \n",
    "        step = 0\n",
    "        episode += 1\n",
    "        env.reset()\n",
    "        history = np.zeros([1, 3])\n",
    "\n",
    "env.close()"
   ]
  },
  {
   "cell_type": "code",
   "execution_count": 11,
   "metadata": {},
   "outputs": [
    {
     "data": {
      "text/plain": [
       "array([[ 4.7827e-01,  5.0977e-01,  3.4241e-02, -1.2177e-01, -8.9014e-01,\n",
       "        -6.0368e-04, -1.0000e+00, -1.9073e-04, -8.9014e-01,  6.4307e-01,\n",
       "         7.2900e-01, -1.1986e-02, -1.0109e-03, -1.0000e+00,  8.1006e-01,\n",
       "         5.3125e-01],\n",
       "       [ 4.3823e-01, -1.0000e+00,  7.2900e-01, -1.0000e+00, -5.9180e-01,\n",
       "         4.3604e-01,  8.1006e-01, -8.7402e-01, -1.0000e+00, -7.2900e-01,\n",
       "         8.9990e-01, -2.0630e-02, -1.3342e-01,  7.7393e-01,  8.9990e-01,\n",
       "        -4.8798e-02],\n",
       "       [ 5.9033e-01,  6.5625e-01, -1.2878e-01, -1.6785e-01, -1.0000e+00,\n",
       "        -4.1138e-01, -1.0000e+00, -8.1836e-01, -6.5723e-01, -7.3047e-01,\n",
       "        -1.0000e+00, -8.1396e-01, -6.5771e-01,  8.9990e-01,  1.0000e+00,\n",
       "        -9.2010e-03],\n",
       "       [-8.0127e-01, -8.9014e-01,  5.9033e-01, -8.9014e-01,  5.2686e-01,\n",
       "        -1.3863e-02,  6.5479e-01, -4.8853e-01, -8.8037e-01, -1.0000e+00,\n",
       "         1.1871e-01, -7.6367e-01, -6.5771e-01,  6.8018e-01,  8.1006e-01,\n",
       "         4.3042e-01]], dtype=float16)"
      ]
     },
     "execution_count": 11,
     "metadata": {},
     "output_type": "execute_result"
    }
   ],
   "source": [
    "q_table"
   ]
  },
  {
   "cell_type": "code",
   "execution_count": 12,
   "metadata": {},
   "outputs": [
    {
     "name": "stdout",
     "output_type": "stream",
     "text": [
      "\n",
      "\u001b[41mS\u001b[0mFFF\n",
      "FHFH\n",
      "FFFH\n",
      "HFFG\n",
      "  (Right)\n",
      "S\u001b[41mF\u001b[0mFF\n",
      "FHFH\n",
      "FFFH\n",
      "HFFG\n",
      "  (Right)\n",
      "SF\u001b[41mF\u001b[0mF\n",
      "FHFH\n",
      "FFFH\n",
      "HFFG\n",
      "  (Down)\n",
      "SFFF\n",
      "FH\u001b[41mF\u001b[0mH\n",
      "FFFH\n",
      "HFFG\n",
      "  (Down)\n",
      "SFFF\n",
      "FHFH\n",
      "FF\u001b[41mF\u001b[0mH\n",
      "HFFG\n",
      "  (Down)\n",
      "SFFF\n",
      "FHFH\n",
      "FFFH\n",
      "HF\u001b[41mF\u001b[0mG\n",
      "  (Right)\n",
      "SFFF\n",
      "FHFH\n",
      "FFFH\n",
      "HFF\u001b[41mG\u001b[0m\n"
     ]
    }
   ],
   "source": [
    "s = env.reset()\n",
    "\n",
    "step = 1\n",
    "while(True):\n",
    "    env.render()\n",
    "    a = np.argmax(q_table[ : , s])\n",
    "    s,r,d,_ = env.step(a)\n",
    "    if(d):\n",
    "        env.render()\n",
    "        break\n",
    "env.close()"
   ]
  }
 ],
 "metadata": {
  "kernelspec": {
   "display_name": "Python 3",
   "language": "python",
   "name": "python3"
  },
  "language_info": {
   "codemirror_mode": {
    "name": "ipython",
    "version": 3
   },
   "file_extension": ".py",
   "mimetype": "text/x-python",
   "name": "python",
   "nbconvert_exporter": "python",
   "pygments_lexer": "ipython3",
   "version": "3.6.7"
  }
 },
 "nbformat": 4,
 "nbformat_minor": 2
}
