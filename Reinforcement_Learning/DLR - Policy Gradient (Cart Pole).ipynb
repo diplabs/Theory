{
 "cells": [
  {
   "cell_type": "code",
   "execution_count": 1,
   "metadata": {},
   "outputs": [
    {
     "name": "stderr",
     "output_type": "stream",
     "text": [
      "Using TensorFlow backend.\n"
     ]
    }
   ],
   "source": [
    "import numpy as np\n",
    "import tensorflow as tf\n",
    "import gym\n",
    "from gym.envs.registration import register\n",
    "from keras.layers import Dense\n",
    "from keras.models import Sequential\n",
    "from keras import backend as K\n",
    "from keras.optimizers import Adam\n",
    "import random"
   ]
  },
  {
   "cell_type": "code",
   "execution_count": 15,
   "metadata": {},
   "outputs": [],
   "source": [
    "'''\n",
    "환경 생성\n",
    "'''\n",
    "env = gym.make('CartPole-v1')"
   ]
  },
  {
   "cell_type": "code",
   "execution_count": 16,
   "metadata": {},
   "outputs": [],
   "source": [
    "size_in = env.observation_space.shape[0]\n",
    "size_out = env.action_space.n\n",
    "size_w1 = 8\n",
    "size_w2 = 12\n",
    "size_w3 = 6\n",
    "save_file = 'C:\\\\Users\\\\김민수\\\\Documents\\\\GitHub\\\\RL\\\\vars\\\\cartpole_pg'\n",
    "\n",
    "lr = .02 ## learning rate\n",
    "total_episode = 1000\n",
    "epsilon = .05\n",
    "gamma = .95  ##Discounted factor\n",
    "\n",
    "reward = tf.placeholder(tf.float32)\n",
    "STATE_IN = tf.placeholder(tf.float32, [None, size_in])\n",
    "W_1 = tf.Variable(tf.random_normal([size_in, size_w1],stddev=.01), name='W_1')\n",
    "W_2 = tf.Variable(tf.random_normal([size_w1, size_w2],stddev=.01), name='W_2')\n",
    "W_3 = tf.Variable(tf.random_normal([size_w2, size_w3],stddev=.01), name='W_3')\n",
    "out = tf.Variable(tf.random_normal([size_w3, size_out],stddev=.01), name='out')"
   ]
  },
  {
   "cell_type": "code",
   "execution_count": 17,
   "metadata": {},
   "outputs": [],
   "source": [
    "L_1 = tf.matmul(STATE_IN, W_1)\n",
    "L_2 = tf.matmul(L_1, W_2)\n",
    "L_3 = tf.matmul(L_2, W_3)\n",
    "L_out = tf.sigmoid(tf.matmul(L_3, out))\n",
    "\n",
    "loss = -tf.reduce_mean(tf.log(L_out)*reward) ##pg는 신경망을 거치면 정책(pi)이 바로 나온다.\n",
    "train = tf.train.AdamOptimizer(lr).minimize(loss)"
   ]
  },
  {
   "cell_type": "code",
   "execution_count": 19,
   "metadata": {},
   "outputs": [],
   "source": [
    "def discounted_reward(r):\n",
    "    dr = np.zeros_like(r)\n",
    "    sum_r = 0\n",
    "    \n",
    "    for i in reversed(range(0, r.size)):\n",
    "        sum_r = gamma*sum_r + r[i]\n",
    "        dr[i] = sum_r  \n",
    "    \n",
    "    return dr"
   ]
  },
  {
   "cell_type": "code",
   "execution_count": 20,
   "metadata": {
    "scrolled": false
   },
   "outputs": [
    {
     "name": "stdout",
     "output_type": "stream",
     "text": [
      "평균 : 40.4\n",
      "평균 : 34.08\n",
      "평균 : 53.215999999999994\n",
      "평균 : 23.6432\n",
      "평균 : 24.32864\n",
      "평균 : 17.065728\n",
      "평균 : 13.2131456\n",
      "평균 : 16.642629120000002\n",
      "평균 : 13.328525824000002\n",
      "평균 : 14.8657051648\n",
      "평균 : 11.97314103296\n",
      "평균 : 59.19462820659201\n",
      "평균 : 92.0389256413184\n",
      "평균 : 94.40778512826368\n",
      "평균 : 68.48155702565273\n",
      "평균 : 22.896311405130547\n",
      "평균 : 13.579262281026109\n",
      "평균 : 30.915852456205222\n",
      "평균 : 84.58317049124105\n",
      "평균 : 205.91663409824824\n",
      "평균 : 226.98332681964968\n",
      "평균 : 184.59666536392993\n",
      "평균 : 111.71933307278599\n",
      "평균 : 37.7438666145572\n",
      "평균 : 85.14877332291144\n",
      "평균 : 269.0297546645823\n",
      "평균 : 188.00595093291645\n",
      "평균 : 259.4011901865833\n",
      "평균 : 551.8802380373166\n",
      "평균 : 2110.376047607463\n"
     ]
    }
   ],
   "source": [
    "saver = tf.train.Saver()\n",
    "\n",
    "with tf.Session() as sess:\n",
    "    tf.global_variables_initializer().run()\n",
    "    state_buffer = []\n",
    "    reward_buffer = []\n",
    "    step = 0\n",
    "    ep = 0\n",
    "    state = env.reset()\n",
    "    mean_reward = 0\n",
    "    is_over = False\n",
    "\n",
    "    while not is_over:\n",
    "        done = False\n",
    "        \n",
    "        while not done:\n",
    "            #env.render()\n",
    "            step += 1\n",
    "            state = np.reshape(state, [1, size_in])\n",
    "            state_buffer.append(state) ##상태 정보 stack\n",
    "            \n",
    "            pi = sess.run(L_out, feed_dict={STATE_IN:state})\n",
    "            if(random.random() < epsilon):\n",
    "                action = env.action_space.sample()\n",
    "            else:\n",
    "                action = np.argmax(pi)\n",
    "                \n",
    "            new_state, r, d, _ = env.step(action)\n",
    "            state = new_state\n",
    "            reward_buffer.append(r) ##보상 정보 stack\n",
    "            \n",
    "            if d:\n",
    "                ep += 1\n",
    "                epsilon = 1/(ep/20 + 1)\n",
    "                \n",
    "                eps = np.vstack(state_buffer)\n",
    "                epr = np.vstack(reward_buffer)\n",
    "                epr = discounted_reward(epr)##데이터 정리\n",
    "                \n",
    "                state_buffer, reward_buffer = [], []                \n",
    "                sess.run(train, feed_dict={STATE_IN:eps, reward:epr})##학습\n",
    "                mean_reward += step\n",
    "                #################################학습 정보 쌓기\n",
    "                \n",
    "                if(ep % 5 == 0):\n",
    "                    mean_reward = mean_reward/5\n",
    "                    #epsilon = 1 / (mean_reward/100 + ep/100 + 2)\n",
    "                    print('평균 : {}'.format(mean_reward))\n",
    "                    \n",
    "                    if(step >= 2000):\n",
    "                        mean_reward = 0\n",
    "                        saver.save(sess, save_file)\n",
    "                        is_over = True\n",
    "                        \n",
    "                step = 0\n",
    "                done = True\n",
    "                state = env.reset()\n",
    "env.close()"
   ]
  }
 ],
 "metadata": {
  "kernelspec": {
   "display_name": "Python 3",
   "language": "python",
   "name": "python3"
  },
  "language_info": {
   "codemirror_mode": {
    "name": "ipython",
    "version": 3
   },
   "file_extension": ".py",
   "mimetype": "text/x-python",
   "name": "python",
   "nbconvert_exporter": "python",
   "pygments_lexer": "ipython3",
   "version": "3.6.7"
  }
 },
 "nbformat": 4,
 "nbformat_minor": 2
}
