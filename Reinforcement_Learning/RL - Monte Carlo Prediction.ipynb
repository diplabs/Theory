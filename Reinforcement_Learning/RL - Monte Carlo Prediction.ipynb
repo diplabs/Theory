{
 "cells": [
  {
   "cell_type": "markdown",
   "metadata": {},
   "source": [
    "# Monte Carlo Prediction\n",
    "---\n",
    "> Monte Carlo\n",
    "1. Policy Iteration\n",
    "2. Value Iteration\n",
    "\n",
    "* 불확실성을 예측하기 위해 sampling 사용 (trial - error)\n",
    "* Value Function 을 사용하는 것은 model - free 에서 못쓰므로 여기서부터 Q Function 사용"
   ]
  },
  {
   "cell_type": "code",
   "execution_count": 3,
   "metadata": {},
   "outputs": [],
   "source": [
    "import gym\n",
    "import numpy as np\n",
    "import random\n",
    "from gym.envs.registration import register"
   ]
  },
  {
   "cell_type": "code",
   "execution_count": 4,
   "metadata": {},
   "outputs": [],
   "source": [
    "'''\n",
    "환경셋팅 한 후에 환경을 추가등록한다.\n",
    "'''\n",
    "\n",
    "register(\n",
    "    id='FrozenLake-v1',\n",
    "    entry_point=\"gym.envs.toy_text:FrozenLakeEnv\",\n",
    "    kwargs={'map_name':'4x4','is_slippery':False})"
   ]
  },
  {
   "cell_type": "code",
   "execution_count": 5,
   "metadata": {},
   "outputs": [],
   "source": [
    "'''\n",
    "환경 생성\n",
    "'''\n",
    "env = gym.make('FrozenLake-v1')"
   ]
  },
  {
   "cell_type": "code",
   "execution_count": 185,
   "metadata": {},
   "outputs": [],
   "source": [
    "q_table = np.zeros([env.action_space.n, env.observation_space.n], dtype = np.float16)\n",
    "gamma = .9\n",
    "epsilon = 1\n",
    "episode = 0\n",
    "max_episode = 1000\n",
    "history = np.zeros([1, 3])\n",
    "\n",
    "state = env.reset()\n",
    "action = env.action_space.sample()\n",
    "step = 0\n",
    "\n",
    "'''\n",
    "compute discounted\n",
    "'''\n",
    "def discounted_reward(rewards):\n",
    "    discounted = np.zeros_like(rewards)\n",
    "    sum_tmp = 0\n",
    "    \n",
    "    for i in reversed(range(0, len(rewards))):\n",
    "        sum_tmp = gamma * sum_tmp + rewards[i]\n",
    "        discounted[i] = sum_tmp\n",
    "    \n",
    "    return discounted\n",
    "\n",
    "'''\n",
    "main\n",
    "'''\n",
    "while(episode < max_episode):\n",
    "    \n",
    "    step += 1\n",
    "    state_next, reward, done, _ = env.step(action)\n",
    "        \n",
    "    if(random.random() > epsilon):\n",
    "        action_next = np.argmax(q_table[ : , state_next])\n",
    "    else:\n",
    "        action_next = env.action_space.sample()\n",
    "    \n",
    "    \n",
    "    state_old = state\n",
    "    action_old = action\n",
    "    \n",
    "    state = state_next\n",
    "    action = action_next\n",
    "    \n",
    "    # history 쌓기\n",
    "    history = np.vstack((history, [state_old, action_old, reward]))\n",
    "    \n",
    "    # episode 끝나면 업데이트\n",
    "    if(done):\n",
    "        if(reward):\n",
    "            if(epsilon > .1):\n",
    "                epsilon = 1 / (episode/(max_episode/10) + 1)\n",
    "            else:\n",
    "                epsilon = .1\n",
    "        else:\n",
    "            history[-1, 2] = -1\n",
    "            \n",
    "        epr = discounted_reward(history[ : , 2])\n",
    "        \n",
    "        # M.C 업데이트\n",
    "        for i in range(len(history)):\n",
    "            s = int(history[i, 0])\n",
    "            a = int(history[i, 1])\n",
    "            r = epr[i]\n",
    "            q_table[a, s] += gamma * (r - q_table[a, s])\n",
    "            \n",
    "        step = 0\n",
    "        episode += 1\n",
    "        env.reset()\n",
    "        history = np.zeros([1, 3])\n",
    "\n",
    "env.close()"
   ]
  },
  {
   "cell_type": "code",
   "execution_count": 186,
   "metadata": {},
   "outputs": [
    {
     "data": {
      "text/plain": [
       "array([[ 0.531   , -0.2311  , -0.8813  , -0.5576  , -0.815   , -0.04794 ,\n",
       "        -1.      , -0.589   , -0.89    , -0.6646  ,  0.7134  ,  0.0314  ,\n",
       "        -0.3142  , -1.      ,  0.81    ,  0.014175],\n",
       "       [ 0.567   , -1.      , -0.4736  , -1.      ,  0.6562  , -0.5312  ,\n",
       "        -0.729   , -0.5884  , -1.      ,  0.81    ,  0.9     , -0.06555 ,\n",
       "        -0.5312  ,  0.81    ,  0.9     ,  0.584   ],\n",
       "       [-0.1616  , -0.7915  , -0.619   , -0.89    , -1.      , -0.07764 ,\n",
       "        -1.      , -0.817   ,  0.729   ,  0.655   , -1.      , -0.833   ,\n",
       "        -0.8916  ,  0.9     ,  1.      , -0.01907 ],\n",
       "       [ 0.3845  , -0.089   , -0.8013  , -0.2213  , -0.7373  ,  0.1327  ,\n",
       "        -0.5195  , -0.03546 ,  0.4521  , -1.      ,  0.729   , -0.601   ,\n",
       "        -0.01228 ,  0.715   ,  0.81    , -0.2607  ]], dtype=float16)"
      ]
     },
     "execution_count": 186,
     "metadata": {},
     "output_type": "execute_result"
    }
   ],
   "source": [
    "q_table"
   ]
  },
  {
   "cell_type": "code",
   "execution_count": 188,
   "metadata": {},
   "outputs": [
    {
     "name": "stdout",
     "output_type": "stream",
     "text": [
      "\n",
      "\u001b[41mS\u001b[0mFFF\n",
      "FHFH\n",
      "FFFH\n",
      "HFFG\n",
      "  (Down)\n",
      "SFFF\n",
      "\u001b[41mF\u001b[0mHFH\n",
      "FFFH\n",
      "HFFG\n",
      "  (Down)\n",
      "SFFF\n",
      "FHFH\n",
      "\u001b[41mF\u001b[0mFFH\n",
      "HFFG\n",
      "  (Right)\n",
      "SFFF\n",
      "FHFH\n",
      "F\u001b[41mF\u001b[0mFH\n",
      "HFFG\n",
      "  (Down)\n",
      "SFFF\n",
      "FHFH\n",
      "FFFH\n",
      "H\u001b[41mF\u001b[0mFG\n",
      "  (Right)\n",
      "SFFF\n",
      "FHFH\n",
      "FFFH\n",
      "HF\u001b[41mF\u001b[0mG\n",
      "  (Right)\n",
      "SFFF\n",
      "FHFH\n",
      "FFFH\n",
      "HFF\u001b[41mG\u001b[0m\n"
     ]
    }
   ],
   "source": [
    "s = env.reset()\n",
    "\n",
    "step = 1\n",
    "while(True):\n",
    "    env.render()\n",
    "    a = np.argmax(q_table[ : , s])\n",
    "    s,r,d,_ = env.step(a)\n",
    "    if(d):\n",
    "        env.render()\n",
    "        break\n",
    "env.close()"
   ]
  }
 ],
 "metadata": {
  "kernelspec": {
   "display_name": "Python 3",
   "language": "python",
   "name": "python3"
  },
  "language_info": {
   "codemirror_mode": {
    "name": "ipython",
    "version": 3
   },
   "file_extension": ".py",
   "mimetype": "text/x-python",
   "name": "python",
   "nbconvert_exporter": "python",
   "pygments_lexer": "ipython3",
   "version": "3.6.7"
  }
 },
 "nbformat": 4,
 "nbformat_minor": 2
}
