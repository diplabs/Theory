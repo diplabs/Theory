{
 "cells": [
  {
   "cell_type": "markdown",
   "metadata": {},
   "source": [
    "# Q - Learning\n",
    "---\n",
    "> \n",
    "\n",
    "* D.P 는 환경에 대한 확실한 확률정보를 알고있는 모델을 푸는 과정\n",
    "* 환경에 불확실성이 포함된 모델을 푸는것이 RL 알고리즘\n",
    "* 주로 sampling 기법으로 불확실성을 예측한다.\n",
    "* 한꺼번에 모두 업데이트하는 D.P 와 다르게 한 step 씩 계산한다.\n",
    "* Bellman Equation 을 변형하여 sampling 으로 얻은 data 를 적용한다.\n",
    "* Off - Policy - 이 개념이 가장 중요"
   ]
  },
  {
   "cell_type": "code",
   "execution_count": 1,
   "metadata": {},
   "outputs": [],
   "source": [
    "import gym\n",
    "import numpy as np\n",
    "import random\n",
    "from gym.envs.registration import register"
   ]
  },
  {
   "cell_type": "code",
   "execution_count": 2,
   "metadata": {},
   "outputs": [],
   "source": [
    "'''\n",
    "환경셋팅 한 후에 환경을 추가등록한다.\n",
    "'''\n",
    "\n",
    "register(\n",
    "    id='FrozenLake-v1',\n",
    "    entry_point=\"gym.envs.toy_text:FrozenLakeEnv\",\n",
    "    kwargs={'map_name':'4x4','is_slippery':False})"
   ]
  },
  {
   "cell_type": "code",
   "execution_count": 3,
   "metadata": {},
   "outputs": [],
   "source": [
    "'''\n",
    "환경 생성\n",
    "'''\n",
    "env = gym.make('FrozenLake-v1')"
   ]
  },
  {
   "cell_type": "code",
   "execution_count": 8,
   "metadata": {},
   "outputs": [],
   "source": [
    "q_table = np.zeros([env.action_space.n, env.observation_space.n], dtype = np.float16)\n",
    "gamma = .9\n",
    "epsilon = 1\n",
    "episode = 0\n",
    "max_episode = 1000\n",
    "\n",
    "state = env.reset()\n",
    "step = 0\n",
    "\n",
    "while(episode < max_episode):\n",
    "    \n",
    "    #env.render()\n",
    "    step += 1\n",
    "    #reward -= step*.01\n",
    "        \n",
    "    if(random.random() > epsilon):\n",
    "        action = np.argmax(q_table[ : , state_next])\n",
    "    else:\n",
    "        action = env.action_space.sample()\n",
    "    \n",
    "    state_next, reward, done, _ = env.step(action)\n",
    "\n",
    "    # Q - Learning\n",
    "    q_table[action, state] += gamma * (reward + np.max(q_table[ : , state_next]) - q_table[action, state])\n",
    "    \n",
    "    state_old = state    \n",
    "    state = state_next\n",
    "    \n",
    "    if(done):\n",
    "        if(reward):\n",
    "            if(epsilon > .1):\n",
    "                epsilon = 1 / (episode/(max_episode/10) + 1)\n",
    "            else:\n",
    "                epsilon = .1\n",
    "        else:\n",
    "            q_table[action, state_old] += gamma * (-1 + q_table[action, state] - q_table[action, state_old])\n",
    "        \n",
    "        step = 0\n",
    "        episode += 1\n",
    "        env.reset()\n",
    "env.close()"
   ]
  },
  {
   "cell_type": "code",
   "execution_count": 9,
   "metadata": {},
   "outputs": [
    {
     "data": {
      "text/plain": [
       "array([[ 95.1   , 106.6   ,  17.27  ,   0.    ,  93.9   ,  53.5   ,\n",
       "         -0.909 ,   0.    , 107.75  ,  98.5   , 105.    ,  11.42  ,\n",
       "         24.47  ,  30.84  , 107.2   ,  83.75  ],\n",
       "       [111.5   ,   5.875 ,   0.    ,  -0.909 , 112.1   ,  96.44  ,\n",
       "          0.729 ,   0.    ,  84.1   , 112.4   ,  85.5   ,   0.    ,\n",
       "        105.75  ,  98.75  , 103.2   , 111.8   ],\n",
       "       [ 74.94  ,  12.14  ,   0.    ,   0.    ,  58.7   ,  55.62  ,\n",
       "         -0.909 ,   0.    , 112.4   , 102.44  ,  -0.909 ,   0.    ,\n",
       "         67.7   , 112.4   , 112.75  ,  97.    ],\n",
       "       [ 70.1   ,   5.28  ,   0.    ,   0.    ,  96.75  , 100.6   ,\n",
       "          0.    ,   0.    ,  82.25  ,  99.6   ,   0.6562,   0.    ,\n",
       "         22.44  , 105.2   ,  97.4   , 109.8   ]], dtype=float16)"
      ]
     },
     "execution_count": 9,
     "metadata": {},
     "output_type": "execute_result"
    }
   ],
   "source": [
    "q_table"
   ]
  },
  {
   "cell_type": "code",
   "execution_count": 6,
   "metadata": {},
   "outputs": [
    {
     "data": {
      "text/plain": [
       "0.1"
      ]
     },
     "execution_count": 6,
     "metadata": {},
     "output_type": "execute_result"
    }
   ],
   "source": [
    "epsilon"
   ]
  },
  {
   "cell_type": "code",
   "execution_count": 10,
   "metadata": {},
   "outputs": [
    {
     "name": "stdout",
     "output_type": "stream",
     "text": [
      "\n",
      "\u001b[41mS\u001b[0mFFF\n",
      "FHFH\n",
      "FFFH\n",
      "HFFG\n",
      "  (Down)\n",
      "SFFF\n",
      "\u001b[41mF\u001b[0mHFH\n",
      "FFFH\n",
      "HFFG\n",
      "  (Down)\n",
      "SFFF\n",
      "FHFH\n",
      "\u001b[41mF\u001b[0mFFH\n",
      "HFFG\n",
      "  (Right)\n",
      "SFFF\n",
      "FHFH\n",
      "F\u001b[41mF\u001b[0mFH\n",
      "HFFG\n",
      "  (Down)\n",
      "SFFF\n",
      "FHFH\n",
      "FFFH\n",
      "H\u001b[41mF\u001b[0mFG\n",
      "  (Right)\n",
      "SFFF\n",
      "FHFH\n",
      "FFFH\n",
      "HF\u001b[41mF\u001b[0mG\n",
      "  (Right)\n",
      "SFFF\n",
      "FHFH\n",
      "FFFH\n",
      "HFF\u001b[41mG\u001b[0m\n"
     ]
    }
   ],
   "source": [
    "s = env.reset()\n",
    "\n",
    "step = 1\n",
    "while(True):\n",
    "    env.render()\n",
    "    a = np.argmax(q_table[ : , s])\n",
    "    s,r,d,_ = env.step(a)\n",
    "    if(d):\n",
    "        env.render()\n",
    "        break\n",
    "env.close()"
   ]
  }
 ],
 "metadata": {
  "kernelspec": {
   "display_name": "Python 3",
   "language": "python",
   "name": "python3"
  },
  "language_info": {
   "codemirror_mode": {
    "name": "ipython",
    "version": 3
   },
   "file_extension": ".py",
   "mimetype": "text/x-python",
   "name": "python",
   "nbconvert_exporter": "python",
   "pygments_lexer": "ipython3",
   "version": "3.6.7"
  }
 },
 "nbformat": 4,
 "nbformat_minor": 2
}
